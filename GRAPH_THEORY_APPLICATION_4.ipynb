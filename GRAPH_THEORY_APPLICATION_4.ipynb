{
  "nbformat": 4,
  "nbformat_minor": 0,
  "metadata": {
    "colab": {
      "name": "GRAPH_THEORY_APPLICATION_4.ipynb",
      "provenance": [],
      "collapsed_sections": []
    },
    "kernelspec": {
      "name": "python3",
      "display_name": "Python 3"
    }
  },
  "cells": [
    {
      "cell_type": "markdown",
      "metadata": {
        "id": "cHh1J6ecWt01"
      },
      "source": [
        "**Import Libraries**"
      ]
    },
    {
      "cell_type": "code",
      "metadata": {
        "id": "9jmIpbTOWzIM"
      },
      "source": [
        "import networkx as nx\n",
        "import random"
      ],
      "execution_count": null,
      "outputs": []
    },
    {
      "cell_type": "markdown",
      "metadata": {
        "id": "tKUtgccA2ZoG"
      },
      "source": [
        "**Create a BA graph of any size between 10^3-10^4. Consider information diffusion. Do the following Monte Carlo Simulations.**"
      ]
    },
    {
      "cell_type": "markdown",
      "metadata": {
        "id": "bJ4HmZzSz86O"
      },
      "source": [
        "**1. Independent Cascade Model (ICM) of diffusion. Set an initial active nodes (50 random) and estimate the total active nodes after the simulations. Use at least 10000 run. Consider propagation/diffusion probability to be any random value between 0.05 to 0.15.**"
      ]
    },
    {
      "cell_type": "code",
      "metadata": {
        "id": "OCpxZ1F7VGPS",
        "outputId": "fc980640-ebb8-4063-8e2f-6312eff81187",
        "colab": {
          "base_uri": "https://localhost:8080/",
          "height": 35
        }
      },
      "source": [
        "n=1000\n",
        "m=2\n",
        "G=nx.barabasi_albert_graph(n,m)\n",
        "nx.info(G)"
      ],
      "execution_count": null,
      "outputs": [
        {
          "output_type": "execute_result",
          "data": {
            "application/vnd.google.colaboratory.intrinsic+json": {
              "type": "string"
            },
            "text/plain": [
              "'Name: \\nType: Graph\\nNumber of nodes: 1000\\nNumber of edges: 1996\\nAverage degree:   3.9920'"
            ]
          },
          "metadata": {
            "tags": []
          },
          "execution_count": 74
        }
      ]
    },
    {
      "cell_type": "code",
      "metadata": {
        "id": "uZncGofoyslB"
      },
      "source": [
        "\n",
        "#taking degree for influenceing factor\n",
        "#setting all nodes as inactive\n",
        "labels = \"inactive\"\n",
        "nx.set_node_attributes(G, labels, \"labels\")\n",
        "##setting 50 nodes as active\n",
        "random_nodes=random.sample([i for i in range(0,n)],50)\n",
        "for i in random_nodes:\n",
        "  G.nodes[i][\"labels\"]=\"active\"\n",
        "\n"
      ],
      "execution_count": null,
      "outputs": []
    },
    {
      "cell_type": "code",
      "metadata": {
        "id": "xA5hjPvF0_s0"
      },
      "source": [
        "#arranging on the basis of degree\n",
        "from collections import defaultdict\n",
        "ascending_order=[]\n",
        "\n",
        "degree_order=defaultdict(int)\n",
        "for i in random_nodes:\n",
        "  degree_order[i]=G.degree(i)\n",
        "\n",
        "degree_sorted_keys = sorted(degree_order, key=degree_order.get, reverse=True)\n",
        "for r in degree_sorted_keys:\n",
        "  ascending_order.append(r)\n"
      ],
      "execution_count": null,
      "outputs": []
    },
    {
      "cell_type": "code",
      "metadata": {
        "id": "Rcr8onnk09wJ",
        "outputId": "98ddbc42-7aa2-4488-f8a4-2fb9265ecfa6",
        "colab": {
          "base_uri": "https://localhost:8080/",
          "height": 50
        }
      },
      "source": [
        "g=G\n",
        "active_nodes=[i for i in ascending_order]\n",
        "stack=[i for i in ascending_order]\n",
        "\n",
        "while len(stack)!=0:\n",
        "  node=stack.pop(0)\n",
        "  for i in g.neighbors(node):\n",
        "          rand=random.random()\n",
        "          if rand<.15:\n",
        "            g.nodes[i][\"labels\"]=\"active\"\n",
        "            if i not in active_nodes:\n",
        "              active_nodes.append(i)\n",
        "              stack.append(i)\n",
        "\n",
        "      \n",
        "print(\"Total nodes activated by LCM: \")\n",
        "len(active_nodes)"
      ],
      "execution_count": null,
      "outputs": [
        {
          "output_type": "stream",
          "text": [
            "Total nodes activated by LCM: \n"
          ],
          "name": "stdout"
        },
        {
          "output_type": "execute_result",
          "data": {
            "text/plain": [
              "228"
            ]
          },
          "metadata": {
            "tags": []
          },
          "execution_count": 77
        }
      ]
    },
    {
      "cell_type": "code",
      "metadata": {
        "id": "IQQ7Sqz4de1P",
        "outputId": "75464ec1-467c-47ac-b3b5-2f2fbf0f16f8",
        "colab": {
          "base_uri": "https://localhost:8080/",
          "height": 50
        }
      },
      "source": [
        "#iteration 100 times as 10000 time is taking large time\n",
        "n=100\n",
        "average=0\n",
        "for i in range(n):\n",
        "  g=G\n",
        "  active_nodes=[i for i in ascending_order]\n",
        "  stack=[i for i in ascending_order]\n",
        "\n",
        "  while len(stack)!=0:\n",
        "    node=stack.pop(0)\n",
        "    for i in g.neighbors(node):\n",
        "      rand=random.random()\n",
        "      if rand<.20:\n",
        "        g.nodes[i][\"labels\"]=\"active\"\n",
        "        if i not in active_nodes:\n",
        "          active_nodes.append(i)\n",
        "          stack.append(i)\n",
        "  # print(active_nodes)\n",
        "  average+=(len(active_nodes)/n)\n",
        "\n",
        "\n",
        "\n",
        "print(\"100 iteration for LCM: \")\n",
        "average"
      ],
      "execution_count": null,
      "outputs": [
        {
          "output_type": "stream",
          "text": [
            "100 iteration for LCM: \n"
          ],
          "name": "stdout"
        },
        {
          "output_type": "execute_result",
          "data": {
            "text/plain": [
              "275.50999999999993"
            ]
          },
          "metadata": {
            "tags": []
          },
          "execution_count": 78
        }
      ]
    },
    {
      "cell_type": "markdown",
      "metadata": {
        "id": "txXJhJJl2yPJ"
      },
      "source": [
        "**2. Linear Threshod Model of diffusion. Set an initial active nodes (50 random) and estimate the total active nodes after the simulations. Take random values for b and theta.**"
      ]
    },
    {
      "cell_type": "code",
      "metadata": {
        "id": "ilTIs-Ay49hM",
        "outputId": "6a01ba14-754d-4297-de23-979a44b530ac",
        "colab": {
          "base_uri": "https://localhost:8080/",
          "height": 50
        }
      },
      "source": [
        "n=1000\n",
        "m=2\n",
        "G=nx.barabasi_albert_graph(n,m)\n",
        "nx.info(G)\n",
        "\n",
        "#taking degree for influenceing factor\n",
        "#setting all nodes as inactive\n",
        "labels = \"inactive\"\n",
        "nx.set_node_attributes(G, labels, \"labels\")\n",
        "##setting 50 nodes as active\n",
        "random_nodes=random.sample([i for i in range(n)],50)\n",
        "for i in random_nodes:\n",
        "  G.nodes[i][\"labels\"]=\"active\"\n",
        "\n",
        "def non_active_to_active(G):\n",
        "  # list of total active node at the end of all iterations\n",
        "  total_active_nodes=random_nodes+[] \n",
        "  changes=1  \n",
        "  while changes>0:\n",
        "    changes=0\n",
        "    new_active_nodes=[]\n",
        "    for i in range(n):\n",
        "      #new active nodes at each iterations\n",
        "      if G.nodes[i][\"labels\"]==\"inactive\":\n",
        "        neighbour_i=nx.neighbors(G,i)\n",
        "        sum_active=0\n",
        "        total_neighbour=0\n",
        "        for j in neighbour_i:\n",
        "          total_neighbour+=1\n",
        "          if G.nodes[j][\"labels\"]==\"active\":\n",
        "            sum_active+=1\n",
        "            if sum_active/total_neighbour>.5:\n",
        "\n",
        "                new_active_nodes.append(i)\n",
        "                changes+=1\n",
        "    for k in new_active_nodes:\n",
        "      if k not in total_active_nodes:\n",
        "        G.nodes[k][\"labels\"]=\"active\"\n",
        "        total_active_nodes.append(k)\n",
        "\n",
        "          \n",
        "  return total_active_nodes\n",
        "\n",
        "print(\"The total nodes activated by LTM: \")\n",
        "len(non_active_to_active(G))\n",
        "\n",
        "\n",
        "\n",
        "\n"
      ],
      "execution_count": null,
      "outputs": [
        {
          "output_type": "stream",
          "text": [
            "The total nodes activated by LTM: \n"
          ],
          "name": "stdout"
        },
        {
          "output_type": "execute_result",
          "data": {
            "text/plain": [
              "121"
            ]
          },
          "metadata": {
            "tags": []
          },
          "execution_count": 69
        }
      ]
    },
    {
      "cell_type": "markdown",
      "metadata": {
        "id": "KQRdk5-2Fl0y"
      },
      "source": [
        "**3. Seed Selection: Use greedy algorithm to select 15 seed/most influencing nodes. Report the final information spread of these 15 nodes. Verify that how much it is different as compare to 15 random nodes. Use both ICM/LTM as your underlying model.**"
      ]
    },
    {
      "cell_type": "code",
      "metadata": {
        "id": "4qOXYqE3ySZ1"
      },
      "source": [
        "#make a single function to get 1 top node at a time\n",
        "\n",
        "#most influencial nodes using ICM model\n",
        "n=100\n",
        "m=2\n",
        "G=nx.barabasi_albert_graph(n,m)\n",
        "nx.info(G)\n",
        "labels = \"inactive\"\n",
        "nx.set_node_attributes(G, labels, \"labels\")\n",
        "\n",
        "\n",
        "\n",
        "\n"
      ],
      "execution_count": null,
      "outputs": []
    },
    {
      "cell_type": "code",
      "metadata": {
        "id": "ibXG8S7T2L_6"
      },
      "source": [
        "influencial_nodes=[]\n",
        "remaining_nodes=[i for i in range(n)]\n",
        "def nth_maxnode(g):\n",
        "  max_node=remaining_nodes[0]\n",
        "  max_average=0\n",
        "  influence=0\n",
        "  for i in remaining_nodes:\n",
        "    average=0\n",
        "    g=G\n",
        "    if len(influencial_nodes)!=0:\n",
        "      for t in influencial_nodes:\n",
        "\n",
        "        g.nodes[t][\"labels\"]=\"active\"\n",
        "    g.nodes[i][\"labels\"]=\"active\"\n",
        "    m=100\n",
        "    average=0\n",
        "    for j in range(m):\n",
        "      g=G\n",
        "      active_nodes=influencial_nodes+[i]\n",
        "      stack=influencial_nodes+[i]\n",
        "\n",
        "      while len(stack)!=0:\n",
        "        node=stack.pop(0)\n",
        "        for k in g.neighbors(node):\n",
        "          rand=random.random()\n",
        "          if rand<.20:\n",
        "            g.nodes[k][\"labels\"]=\"active\"\n",
        "            if k not in active_nodes:\n",
        "              active_nodes.append(k)\n",
        "              stack.append(k)\n",
        "  # print(active_nodes)\n",
        "    average+=(len(active_nodes)/m)\n",
        "    if average>max_average:\n",
        "      max_average=average\n",
        "      influence=i\n",
        "  remaining_nodes.remove(influence)\n",
        "  influencial_nodes.append(influence)\n",
        "\n",
        "    \n",
        "  return influence\n"
      ],
      "execution_count": null,
      "outputs": []
    },
    {
      "cell_type": "code",
      "metadata": {
        "id": "i_WKLSZOwEFK",
        "outputId": "ec9a76be-853d-4099-81d6-d23da404c3cc",
        "colab": {
          "base_uri": "https://localhost:8080/",
          "height": 50
        }
      },
      "source": [
        "n=15\n",
        "\n",
        "k=0\n",
        "while k <n:\n",
        "  # print(nth_maxnode(G))\n",
        "  nth_maxnode(G)\n",
        "\n",
        "  k+=1\n",
        "print(\"The most influencial 15 nodes are by LCM: \") \n",
        "influencial_nodes"
      ],
      "execution_count": null,
      "outputs": [
        {
          "output_type": "stream",
          "text": [
            "The most influencial 15 nodes are: \n"
          ],
          "name": "stdout"
        },
        {
          "output_type": "execute_result",
          "data": {
            "text/plain": [
              "[71, 30, 87, 9, 66, 33, 68, 23, 32, 29, 57, 7, 94, 35, 2]"
            ]
          },
          "metadata": {
            "tags": []
          },
          "execution_count": 72
        }
      ]
    },
    {
      "cell_type": "code",
      "metadata": {
        "id": "JvGYNhKVA3LU"
      },
      "source": [
        "n=100\n",
        "m=2\n",
        "G=nx.barabasi_albert_graph(n,m)\n",
        "labels = \"inactive\"\n",
        "nx.set_node_attributes(G, labels, \"labels\")\n",
        "\n",
        "#using linear threshold model\n",
        "\n",
        "remaining_nodes=[i for i in range(n)]\n",
        "def nth_maxnode(g):\n",
        "  influencial_nodes=[]\n",
        "  influence_len=0\n",
        "  for i in remaining_nodes:\n",
        "    total_active_node=[i]\n",
        "    for j in remaining_nodes:\n",
        "      changes=1\n",
        "      while changes>0:\n",
        "        new_active_nodes=[]\n",
        "        g=G\n",
        "        if len(influencial_nodes)!=0:\n",
        "          for t in influencial_nodes:\n",
        "            g.nodes[t][\"labels\"]=\"active\"\n",
        "        g.nodes[i][\"labels\"]=\"active\"\n",
        "\n",
        "\n",
        "        if g.nodes[i][\"labels\"]==\"inactive\":\n",
        "          neighbour_i=nx.neighbour(g,i)\n",
        "          sum_active=0\n",
        "          total_neighbour=0\n",
        "          for j in neighbour_i:\n",
        "            total_neighbour+=1\n",
        "            if g.nodes[j][\"labels\"]==\"active\":\n",
        "              sum_active+=1\n",
        "              if sum_active/total_neighbour>.5:\n",
        "                new_active_nodes.append(i)\n",
        "                changes+=1\n",
        "    for k in new_active_nodes:\n",
        "      if k not in total_active_nodes:\n",
        "        g.nodes[k][\"labels\"]=\"active\"\n",
        "        total_active_nodes.append(k)\n",
        "    if len(total_active_nodes)>influence_len:\n",
        "      influence_len=len(total_active_nodes)\n",
        "      influence=i\n",
        "\n",
        "    remaining_nodes.remove(influence)\n",
        "    influencial_nodes.append(influence)\n",
        "  return influence\n",
        "\n",
        "  "
      ],
      "execution_count": null,
      "outputs": []
    },
    {
      "cell_type": "code",
      "metadata": {
        "id": "cpFauO6vBI_9"
      },
      "source": [
        "n=15\n",
        "\n",
        "k=0\n",
        "while k <n:\n",
        "  # print(nth_maxnode(G))\n",
        "  nth_maxnode(G)\n",
        "\n",
        "  k+=1\n",
        "print(\"The most influencial nodes by LTM: \")\n",
        "influencial_nodes"
      ],
      "execution_count": null,
      "outputs": []
    }
  ]
}